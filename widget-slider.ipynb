{
 "cells": [
  {
   "cell_type": "code",
   "execution_count": 28,
   "id": "ad9d1687-133b-41c8-b1e7-b936e5072b58",
   "metadata": {},
   "outputs": [
    {
     "data": {
      "application/vnd.jupyter.widget-view+json": {
       "model_id": "ed9a67321afc4a6c90510f1c3449bc92",
       "version_major": 2,
       "version_minor": 0
      },
      "text/plain": [
       "HBox(children=(Label(value='Some Label'), IntSlider(value=400, continuous_update=False, max=1000, min=50, step…"
      ]
     },
     "metadata": {},
     "output_type": "display_data"
    }
   ],
   "source": [
    "from ipywidgets import Label, IntSlider, HBox, Output\n",
    "\n",
    "w_output = Output()\n",
    "\n",
    "w_label = Label(value=\"Some Label\")\n",
    "w_slider = IntSlider(\n",
    "    value=400, min=50, max=1000, step=50,\n",
    "    continuous_update=False,\n",
    "    readout=True,\n",
    "    style=dict(width=\"150px\", decription_width='0px'))\n",
    "box = HBox([w_label, w_slider])\n",
    "\n",
    "def handle_slider(evt):\n",
    "    with w_output:\n",
    "        print(evt)\n",
    "\n",
    "w_slider.observe(handle_slider, names=['value'])\n",
    "\n",
    "display(box)\n"
   ]
  },
  {
   "cell_type": "code",
   "execution_count": 29,
   "id": "abf5f52e-677d-4c26-843f-f32f7d6e609c",
   "metadata": {},
   "outputs": [
    {
     "data": {
      "application/vnd.jupyter.widget-view+json": {
       "model_id": "50f9078a4c4d4b54ad530d703dba108f",
       "version_major": 2,
       "version_minor": 0
      },
      "text/plain": [
       "Output()"
      ]
     },
     "metadata": {},
     "output_type": "display_data"
    }
   ],
   "source": [
    "display(w_output)"
   ]
  },
  {
   "cell_type": "code",
   "execution_count": 30,
   "id": "2ad80f0f-5443-480f-93ad-0daf488f71ca",
   "metadata": {},
   "outputs": [
    {
     "data": {
      "text/plain": [
       "'8.0.2'"
      ]
     },
     "execution_count": 30,
     "metadata": {},
     "output_type": "execute_result"
    }
   ],
   "source": [
    "import ipywidgets\n",
    "ipywidgets.__version__"
   ]
  },
  {
   "cell_type": "code",
   "execution_count": null,
   "id": "5f7fec88-d9fa-4ab8-b0b8-f20d66ab9986",
   "metadata": {},
   "outputs": [],
   "source": []
  }
 ],
 "metadata": {
  "kernelspec": {
   "display_name": "Python 3 (ipykernel)",
   "language": "python",
   "name": "python3"
  },
  "language_info": {
   "codemirror_mode": {
    "name": "ipython",
    "version": 3
   },
   "file_extension": ".py",
   "mimetype": "text/x-python",
   "name": "python",
   "nbconvert_exporter": "python",
   "pygments_lexer": "ipython3",
   "version": "3.10.8"
  }
 },
 "nbformat": 4,
 "nbformat_minor": 5
}
